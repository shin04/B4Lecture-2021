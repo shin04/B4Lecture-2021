{
 "cells": [
  {
   "cell_type": "code",
   "execution_count": 1,
   "id": "08f670e8-d6f4-4491-a45b-507380e31dec",
   "metadata": {},
   "outputs": [],
   "source": [
    "from pathlib import Path\n",
    "\n",
    "import librosa\n",
    "import librosa.display\n",
    "import pandas as pd\n",
    "import numpy as np\n",
    "import matplotlib.pyplot as plt\n",
    "import IPython.display as ipd\n",
    "from IPython.display import Audio\n",
    "from tqdm import tqdm\n",
    "\n",
    "from sklearn.model_selection import KFold, StratifiedKFold"
   ]
  },
  {
   "cell_type": "markdown",
   "id": "01624da4-5d39-4b7b-baf5-7f302d107371",
   "metadata": {},
   "source": [
    "## Load Data"
   ]
  },
  {
   "cell_type": "code",
   "execution_count": 2,
   "id": "19fe815a-15dd-4b11-ae33-c530e1e279cc",
   "metadata": {},
   "outputs": [],
   "source": [
    "meta = pd.read_csv('../../training.csv')\n",
    "test_meta = pd.read_csv('../../test.csv')"
   ]
  },
  {
   "cell_type": "code",
   "execution_count": 3,
   "id": "63866df1-edf1-4358-b63d-036f9b2e68b8",
   "metadata": {},
   "outputs": [
    {
     "name": "stderr",
     "output_type": "stream",
     "text": [
      "2700it [00:24, 110.86it/s]\n"
     ]
    }
   ],
   "source": [
    "train_path = meta['path'].values\n",
    "\n",
    "_, _sr = librosa.load('../../' + train_path[0])\n",
    "train_wave_list = []\n",
    "\n",
    "for i, p in tqdm(enumerate(train_path)):\n",
    "    waveform, sr = librosa.load('../../'+p)\n",
    "    train_wave_list.append(waveform)"
   ]
  },
  {
   "cell_type": "code",
   "execution_count": 4,
   "id": "633ce763-b7a9-4ce1-9344-1f8ee70419df",
   "metadata": {},
   "outputs": [
    {
     "name": "stderr",
     "output_type": "stream",
     "text": [
      "2700it [00:24, 108.98it/s]\n"
     ]
    }
   ],
   "source": [
    "test_path = meta['path'].values\n",
    "\n",
    "_, _sr = librosa.load('../../' + test_path[0])\n",
    "test_wave_list = []\n",
    "\n",
    "for i, p in tqdm(enumerate(test_path)):\n",
    "    waveform, sr = librosa.load('../../'+p)\n",
    "    test_wave_list.append(waveform)"
   ]
  },
  {
   "cell_type": "code",
   "execution_count": 5,
   "id": "25128c5f-5110-4525-a300-daabb857bc78",
   "metadata": {},
   "outputs": [],
   "source": [
    "train_features_df = meta\n",
    "test_features_df = test_meta\n",
    "SR = 22050"
   ]
  },
  {
   "cell_type": "markdown",
   "id": "a9b6cce4-51ff-43b6-ac69-12ce84e941c6",
   "metadata": {},
   "source": [
    "## Time Features"
   ]
  },
  {
   "cell_type": "code",
   "execution_count": 6,
   "id": "4175ae74-ff3b-4f84-ae82-6bdae4509699",
   "metadata": {},
   "outputs": [
    {
     "data": {
      "text/plain": [
       "count    2700.000000\n",
       "mean        0.438810\n",
       "std         0.149941\n",
       "min         0.143537\n",
       "25%         0.342268\n",
       "50%         0.420590\n",
       "75%         0.512653\n",
       "max         2.282766\n",
       "dtype: float64"
      ]
     },
     "execution_count": 6,
     "metadata": {},
     "output_type": "execute_result"
    }
   ],
   "source": [
    "train_times = []\n",
    "for wave in train_wave_list:\n",
    "    train_times.append(len(wave)/ SR)\n",
    "    \n",
    "train_times = pd.Series(train_times)\n",
    "train_times.describe()"
   ]
  },
  {
   "cell_type": "code",
   "execution_count": 7,
   "id": "a70fc4a2-29f4-45b8-81bf-33df9a2ecbac",
   "metadata": {},
   "outputs": [
    {
     "data": {
      "text/html": [
       "<div>\n",
       "<style scoped>\n",
       "    .dataframe tbody tr th:only-of-type {\n",
       "        vertical-align: middle;\n",
       "    }\n",
       "\n",
       "    .dataframe tbody tr th {\n",
       "        vertical-align: top;\n",
       "    }\n",
       "\n",
       "    .dataframe thead th {\n",
       "        text-align: right;\n",
       "    }\n",
       "</style>\n",
       "<table border=\"1\" class=\"dataframe\">\n",
       "  <thead>\n",
       "    <tr style=\"text-align: right;\">\n",
       "      <th></th>\n",
       "      <th>path</th>\n",
       "      <th>label</th>\n",
       "      <th>times</th>\n",
       "    </tr>\n",
       "  </thead>\n",
       "  <tbody>\n",
       "    <tr>\n",
       "      <th>0</th>\n",
       "      <td>dataset/train/jackson_0.wav</td>\n",
       "      <td>4</td>\n",
       "      <td>0.502902</td>\n",
       "    </tr>\n",
       "    <tr>\n",
       "      <th>1</th>\n",
       "      <td>dataset/train/jackson_1.wav</td>\n",
       "      <td>4</td>\n",
       "      <td>0.429252</td>\n",
       "    </tr>\n",
       "    <tr>\n",
       "      <th>2</th>\n",
       "      <td>dataset/train/jackson_2.wav</td>\n",
       "      <td>4</td>\n",
       "      <td>0.484898</td>\n",
       "    </tr>\n",
       "    <tr>\n",
       "      <th>3</th>\n",
       "      <td>dataset/train/jackson_3.wav</td>\n",
       "      <td>4</td>\n",
       "      <td>0.440272</td>\n",
       "    </tr>\n",
       "    <tr>\n",
       "      <th>4</th>\n",
       "      <td>dataset/train/jackson_4.wav</td>\n",
       "      <td>4</td>\n",
       "      <td>0.454512</td>\n",
       "    </tr>\n",
       "  </tbody>\n",
       "</table>\n",
       "</div>"
      ],
      "text/plain": [
       "                          path  label     times\n",
       "0  dataset/train/jackson_0.wav      4  0.502902\n",
       "1  dataset/train/jackson_1.wav      4  0.429252\n",
       "2  dataset/train/jackson_2.wav      4  0.484898\n",
       "3  dataset/train/jackson_3.wav      4  0.440272\n",
       "4  dataset/train/jackson_4.wav      4  0.454512"
      ]
     },
     "execution_count": 7,
     "metadata": {},
     "output_type": "execute_result"
    }
   ],
   "source": [
    "train_features_df['times'] = train_times\n",
    "train_features_df.head()"
   ]
  },
  {
   "cell_type": "code",
   "execution_count": 8,
   "id": "94e40101-da47-4170-809c-dde225cd9e4e",
   "metadata": {},
   "outputs": [
    {
     "data": {
      "text/html": [
       "<div>\n",
       "<style scoped>\n",
       "    .dataframe tbody tr th:only-of-type {\n",
       "        vertical-align: middle;\n",
       "    }\n",
       "\n",
       "    .dataframe tbody tr th {\n",
       "        vertical-align: top;\n",
       "    }\n",
       "\n",
       "    .dataframe thead th {\n",
       "        text-align: right;\n",
       "    }\n",
       "</style>\n",
       "<table border=\"1\" class=\"dataframe\">\n",
       "  <thead>\n",
       "    <tr style=\"text-align: right;\">\n",
       "      <th></th>\n",
       "      <th>count</th>\n",
       "      <th>mean</th>\n",
       "      <th>std</th>\n",
       "      <th>min</th>\n",
       "      <th>25%</th>\n",
       "      <th>50%</th>\n",
       "      <th>75%</th>\n",
       "      <th>max</th>\n",
       "    </tr>\n",
       "    <tr>\n",
       "      <th>label</th>\n",
       "      <th></th>\n",
       "      <th></th>\n",
       "      <th></th>\n",
       "      <th></th>\n",
       "      <th></th>\n",
       "      <th></th>\n",
       "      <th></th>\n",
       "      <th></th>\n",
       "    </tr>\n",
       "  </thead>\n",
       "  <tbody>\n",
       "    <tr>\n",
       "      <th>0</th>\n",
       "      <td>270.0</td>\n",
       "      <td>0.503607</td>\n",
       "      <td>0.126826</td>\n",
       "      <td>0.271791</td>\n",
       "      <td>0.405850</td>\n",
       "      <td>0.487528</td>\n",
       "      <td>0.591735</td>\n",
       "      <td>1.167664</td>\n",
       "    </tr>\n",
       "    <tr>\n",
       "      <th>1</th>\n",
       "      <td>270.0</td>\n",
       "      <td>0.403095</td>\n",
       "      <td>0.127845</td>\n",
       "      <td>0.174875</td>\n",
       "      <td>0.306757</td>\n",
       "      <td>0.377778</td>\n",
       "      <td>0.482551</td>\n",
       "      <td>0.941542</td>\n",
       "    </tr>\n",
       "    <tr>\n",
       "      <th>2</th>\n",
       "      <td>270.0</td>\n",
       "      <td>0.385760</td>\n",
       "      <td>0.140438</td>\n",
       "      <td>0.161043</td>\n",
       "      <td>0.288379</td>\n",
       "      <td>0.356576</td>\n",
       "      <td>0.471168</td>\n",
       "      <td>1.213379</td>\n",
       "    </tr>\n",
       "    <tr>\n",
       "      <th>3</th>\n",
       "      <td>270.0</td>\n",
       "      <td>0.402025</td>\n",
       "      <td>0.154027</td>\n",
       "      <td>0.181905</td>\n",
       "      <td>0.284966</td>\n",
       "      <td>0.381655</td>\n",
       "      <td>0.496814</td>\n",
       "      <td>1.313016</td>\n",
       "    </tr>\n",
       "    <tr>\n",
       "      <th>4</th>\n",
       "      <td>270.0</td>\n",
       "      <td>0.409257</td>\n",
       "      <td>0.111757</td>\n",
       "      <td>0.169887</td>\n",
       "      <td>0.331179</td>\n",
       "      <td>0.397642</td>\n",
       "      <td>0.470329</td>\n",
       "      <td>1.114875</td>\n",
       "    </tr>\n",
       "    <tr>\n",
       "      <th>5</th>\n",
       "      <td>270.0</td>\n",
       "      <td>0.453843</td>\n",
       "      <td>0.120902</td>\n",
       "      <td>0.209161</td>\n",
       "      <td>0.378061</td>\n",
       "      <td>0.424580</td>\n",
       "      <td>0.512619</td>\n",
       "      <td>1.147256</td>\n",
       "    </tr>\n",
       "    <tr>\n",
       "      <th>6</th>\n",
       "      <td>270.0</td>\n",
       "      <td>0.453374</td>\n",
       "      <td>0.182824</td>\n",
       "      <td>0.143537</td>\n",
       "      <td>0.319002</td>\n",
       "      <td>0.444195</td>\n",
       "      <td>0.569875</td>\n",
       "      <td>0.977506</td>\n",
       "    </tr>\n",
       "    <tr>\n",
       "      <th>7</th>\n",
       "      <td>270.0</td>\n",
       "      <td>0.461145</td>\n",
       "      <td>0.178380</td>\n",
       "      <td>0.245669</td>\n",
       "      <td>0.367370</td>\n",
       "      <td>0.438753</td>\n",
       "      <td>0.507336</td>\n",
       "      <td>2.195918</td>\n",
       "    </tr>\n",
       "    <tr>\n",
       "      <th>8</th>\n",
       "      <td>270.0</td>\n",
       "      <td>0.415019</td>\n",
       "      <td>0.119294</td>\n",
       "      <td>0.218639</td>\n",
       "      <td>0.342857</td>\n",
       "      <td>0.400703</td>\n",
       "      <td>0.467268</td>\n",
       "      <td>1.142902</td>\n",
       "    </tr>\n",
       "    <tr>\n",
       "      <th>9</th>\n",
       "      <td>270.0</td>\n",
       "      <td>0.500978</td>\n",
       "      <td>0.164845</td>\n",
       "      <td>0.222268</td>\n",
       "      <td>0.420102</td>\n",
       "      <td>0.468345</td>\n",
       "      <td>0.555023</td>\n",
       "      <td>2.282766</td>\n",
       "    </tr>\n",
       "  </tbody>\n",
       "</table>\n",
       "</div>"
      ],
      "text/plain": [
       "       count      mean       std       min       25%       50%       75%  \\\n",
       "label                                                                      \n",
       "0      270.0  0.503607  0.126826  0.271791  0.405850  0.487528  0.591735   \n",
       "1      270.0  0.403095  0.127845  0.174875  0.306757  0.377778  0.482551   \n",
       "2      270.0  0.385760  0.140438  0.161043  0.288379  0.356576  0.471168   \n",
       "3      270.0  0.402025  0.154027  0.181905  0.284966  0.381655  0.496814   \n",
       "4      270.0  0.409257  0.111757  0.169887  0.331179  0.397642  0.470329   \n",
       "5      270.0  0.453843  0.120902  0.209161  0.378061  0.424580  0.512619   \n",
       "6      270.0  0.453374  0.182824  0.143537  0.319002  0.444195  0.569875   \n",
       "7      270.0  0.461145  0.178380  0.245669  0.367370  0.438753  0.507336   \n",
       "8      270.0  0.415019  0.119294  0.218639  0.342857  0.400703  0.467268   \n",
       "9      270.0  0.500978  0.164845  0.222268  0.420102  0.468345  0.555023   \n",
       "\n",
       "            max  \n",
       "label            \n",
       "0      1.167664  \n",
       "1      0.941542  \n",
       "2      1.213379  \n",
       "3      1.313016  \n",
       "4      1.114875  \n",
       "5      1.147256  \n",
       "6      0.977506  \n",
       "7      2.195918  \n",
       "8      1.142902  \n",
       "9      2.282766  "
      ]
     },
     "execution_count": 8,
     "metadata": {},
     "output_type": "execute_result"
    }
   ],
   "source": [
    "train_features_df.groupby('label').describe()['times']"
   ]
  },
  {
   "cell_type": "code",
   "execution_count": null,
   "id": "bb7aafe8-4f28-4b53-9e97-fb6dda06c017",
   "metadata": {},
   "outputs": [],
   "source": []
  }
 ],
 "metadata": {
  "kernelspec": {
   "display_name": "ex9_env",
   "language": "python",
   "name": "ex9_env"
  },
  "language_info": {
   "codemirror_mode": {
    "name": "ipython",
    "version": 3
   },
   "file_extension": ".py",
   "mimetype": "text/x-python",
   "name": "python",
   "nbconvert_exporter": "python",
   "pygments_lexer": "ipython3",
   "version": "3.8.8"
  }
 },
 "nbformat": 4,
 "nbformat_minor": 5
}
