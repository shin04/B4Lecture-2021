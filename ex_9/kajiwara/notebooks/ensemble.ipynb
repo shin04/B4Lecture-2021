{
 "cells": [
  {
   "cell_type": "code",
   "execution_count": 1,
   "id": "073105f1-e327-497e-b979-f3cef22aed08",
   "metadata": {},
   "outputs": [],
   "source": [
    "import numpy as np\n",
    "import pandas as pd\n",
    "import matplotlib.pyplot as plt\n",
    "from sklearn.metrics import accuracy_score\n",
    "from sklearn.metrics import confusion_matrix"
   ]
  },
  {
   "cell_type": "code",
   "execution_count": 2,
   "id": "582da9ee-97de-4983-bcb8-a2fdc6ab9e81",
   "metadata": {},
   "outputs": [],
   "source": [
    "conf_res = np.load('../results/20210627092226/pred.npy').sum(axis=0) // 3\n",
    "conf_with_mixup_res = np.load('../results/20210627081148/pred.npy').sum(axis=0) // 3 # or 20210627052324\n",
    "gru_res = np.load('../results/20210627005138/pred.npy').sum(axis=0) // 3\n",
    "gru_old_res = np.load('../results/20210626043459/pred.npy').sum(axis=0) // 3\n",
    "\n",
    "test_truth = pd.read_csv('../meta/test_truth.csv')"
   ]
  },
  {
   "cell_type": "code",
   "execution_count": 9,
   "id": "a33d1f25-0a58-4f8e-adce-d8e43dfabe81",
   "metadata": {},
   "outputs": [],
   "source": [
    "ensemble = []\n",
    "for i in range(len(conf_res)):\n",
    "    vote_dict = {\n",
    "        0: 0, 1: 0, 2: 0, 3: 0, 4: 0, 5: 0, 6: 0, 7: 0, 8: 0, 9: 0\n",
    "    }\n",
    "    \n",
    "    vote_dict[conf_res[i]] += 1\n",
    "    vote_dict[conf_with_mixup_res[i]] += 1    \n",
    "    vote_dict[gru_res[i]] += 1    \n",
    "    vote_dict[gru_old_res[i]] += 1    \n",
    "    \n",
    "    vote_sorted = sorted(vote_dict.items(), key=lambda x:x[1])\n",
    "    ensemble.append(vote_sorted[-1][0])\n",
    "\n",
    "ensemble = np.array(ensemble)"
   ]
  },
  {
   "cell_type": "code",
   "execution_count": 10,
   "id": "cbe4a9a3-13bf-4cad-aa0e-62b160aab70d",
   "metadata": {},
   "outputs": [
    {
     "data": {
      "text/plain": [
       "array([4, 4, 4, 4, 4, 9, 9, 9, 9, 9, 6, 6, 6, 6, 4, 7, 7, 7, 7, 7, 3, 3,\n",
       "       3, 3, 3, 5, 5, 5, 5, 5, 2, 2, 2, 2, 2, 0, 0, 0, 0, 0, 8, 8, 8, 8,\n",
       "       8, 1, 1, 1, 1, 1, 8, 8, 8, 8, 8, 9, 9, 9, 9, 9, 3, 3, 3, 3, 3, 5,\n",
       "       4, 4, 4, 4, 0, 0, 0, 0, 0, 2, 2, 2, 2, 2, 1, 1, 1, 1, 1, 5, 5, 5,\n",
       "       5, 5, 6, 6, 6, 6, 6, 7, 7, 7, 7, 7, 9, 9, 9, 9, 9, 5, 5, 5, 5, 5,\n",
       "       0, 0, 0, 0, 0, 1, 1, 1, 1, 1, 4, 4, 4, 4, 4, 6, 6, 6, 6, 6, 8, 8,\n",
       "       8, 8, 8, 7, 7, 7, 7, 7, 3, 3, 3, 3, 3, 2, 2, 2, 2, 2, 1, 1, 1, 1,\n",
       "       1, 7, 7, 7, 7, 7, 8, 8, 8, 8, 8, 0, 0, 0, 0, 0, 2, 2, 2, 2, 2, 6,\n",
       "       6, 6, 6, 6, 5, 5, 5, 5, 5, 4, 4, 4, 4, 4, 3, 3, 3, 3, 4, 9, 9, 9,\n",
       "       9, 9, 3, 4, 3, 3, 3, 6, 6, 6, 5, 5, 7, 7, 7, 7, 7, 8, 6, 8, 8, 8,\n",
       "       0, 0, 0, 0, 0, 9, 9, 9, 9, 9, 2, 2, 2, 2, 2, 5, 5, 5, 5, 5, 1, 1,\n",
       "       1, 1, 1, 4, 4, 4, 4, 4, 2, 2, 2, 2, 2, 7, 7, 7, 7, 7, 6, 6, 6, 6,\n",
       "       6, 4, 4, 4, 4, 4, 9, 9, 9, 9, 9, 1, 1, 1, 1, 1, 5, 5, 5, 5, 5, 8,\n",
       "       8, 8, 8, 8, 0, 0, 0, 3, 0, 4, 3, 3, 3, 3])"
      ]
     },
     "execution_count": 10,
     "metadata": {},
     "output_type": "execute_result"
    }
   ],
   "source": [
    "ensemble"
   ]
  },
  {
   "cell_type": "code",
   "execution_count": 11,
   "id": "fcc9c01f-bd87-4162-8671-f7db2af96c5a",
   "metadata": {},
   "outputs": [],
   "source": [
    "def plot_confusion_matrix(predict, ground_truth, title=None, cmap=plt.cm.Blues):\n",
    "    \"\"\"\n",
    "    予測結果の混合行列をプロット\n",
    "    Args:\n",
    "        predict: 予測結果\n",
    "        ground_truth: 正解ラベル\n",
    "        title: グラフタイトル\n",
    "        cmap: 混合行列の色\n",
    "    Returns:\n",
    "        Nothing\n",
    "    \"\"\"\n",
    "\n",
    "    cm = confusion_matrix(predict, ground_truth)\n",
    "    plt.figure()\n",
    "    plt.imshow(cm, interpolation=\"nearest\", cmap=cmap)\n",
    "    plt.title(title)\n",
    "    plt.colorbar()\n",
    "    plt.tight_layout()\n",
    "    plt.ylabel(\"Predicted\")\n",
    "    plt.xlabel(\"Ground truth\")\n",
    "    plt.show()"
   ]
  },
  {
   "cell_type": "code",
   "execution_count": 12,
   "id": "93754a01-e71b-42df-98fa-1fdfb8370177",
   "metadata": {},
   "outputs": [
    {
     "data": {
      "image/png": "[encoded data removed]",
      "text/plain": [
       "<Figure size 432x288 with 2 Axes>"
      ]
     },
     "metadata": {
      "needs_background": "light"
     },
     "output_type": "display_data"
    }
   ],
   "source": [
    "truth_values = test_truth['label'].values\n",
    "acc = accuracy_score(truth_values, ensemble)\n",
    "title = 'acc: ' + str(acc)\n",
    "plot_confusion_matrix(ensemble, truth_values, title=title)"
   ]
  },
  {
   "cell_type": "code",
   "execution_count": null,
   "id": "31599e0e-5295-4a4b-8c4d-b8c98b68c678",
   "metadata": {},
   "outputs": [],
   "source": []
  }
 ],
 "metadata": {
  "kernelspec": {
   "display_name": "ex9_env",
   "language": "python",
   "name": "ex9_env"
  },
  "language_info": {
   "codemirror_mode": {
    "name": "ipython",
    "version": 3
   },
   "file_extension": ".py",
   "mimetype": "text/x-python",
   "name": "python",
   "nbconvert_exporter": "python",
   "pygments_lexer": "ipython3",
   "version": "3.8.8"
  }
 },
 "nbformat": 4,
 "nbformat_minor": 5
}
