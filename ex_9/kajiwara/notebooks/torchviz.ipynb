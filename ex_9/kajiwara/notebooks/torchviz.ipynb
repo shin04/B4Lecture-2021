{
 "cells": [
  {
   "cell_type": "code",
   "execution_count": 1,
   "id": "e2e3c9c7-bf06-4efc-bcb3-cee5e085bc85",
   "metadata": {},
   "outputs": [],
   "source": [
    "import sys\n",
    "sys.path.append(\"../src\")\n",
    "from dataset import FSDDataset\n",
    "from model import ConformerModel, GRUModel, ResNet"
   ]
  },
  {
   "cell_type": "code",
   "execution_count": 4,
   "id": "352f7ac3-6cc3-42c0-b56f-b968895d99d9",
   "metadata": {},
   "outputs": [],
   "source": [
    "import torchviz\n",
    "import torch"
   ]
  },
  {
   "cell_type": "code",
   "execution_count": 15,
   "id": "d3736793-b560-42e8-9831-ea129bf6314d",
   "metadata": {},
   "outputs": [],
   "source": [
    "batch_audio = torch.empty(1, 1, 32, 81).uniform_(-1, 1)"
   ]
  },
  {
   "cell_type": "code",
   "execution_count": 13,
   "id": "c1a7f6d1-298a-4d36-8821-770983735008",
   "metadata": {},
   "outputs": [
    {
     "data": {
      "text/plain": [
       "'conformer.png'"
      ]
     },
     "execution_count": 13,
     "metadata": {},
     "output_type": "execute_result"
    }
   ],
   "source": [
    "# model = ConformerModel().cpu()\n",
    "# output = model(batch_audio)\n",
    "# torchviz.make_dot(output, params=dict(model.named_parameters())).render(\"conformer\", format=\"png\")"
   ]
  },
  {
   "cell_type": "code",
   "execution_count": 17,
   "id": "29088b85-be25-4bd1-b9f0-b1e38c78e136",
   "metadata": {},
   "outputs": [
    {
     "data": {
      "text/plain": [
       "'conformer.png'"
      ]
     },
     "execution_count": 17,
     "metadata": {},
     "output_type": "execute_result"
    }
   ],
   "source": [
    "model = GRUModel().cpu()\n",
    "output = model(batch_audio)\n",
    "torchviz.make_dot(output, params=dict(model.named_parameters())).render(\"conformer\", format=\"png\")"
   ]
  },
  {
   "cell_type": "code",
   "execution_count": null,
   "id": "a43c20f8-010c-4b6b-b34a-9914c908a5d7",
   "metadata": {},
   "outputs": [],
   "source": []
  }
 ],
 "metadata": {
  "kernelspec": {
   "display_name": "ex9_env",
   "language": "python",
   "name": "ex9_env"
  },
  "language_info": {
   "codemirror_mode": {
    "name": "ipython",
    "version": 3
   },
   "file_extension": ".py",
   "mimetype": "text/x-python",
   "name": "python",
   "nbconvert_exporter": "python",
   "pygments_lexer": "ipython3",
   "version": "3.8.8"
  }
 },
 "nbformat": 4,
 "nbformat_minor": 5
}
