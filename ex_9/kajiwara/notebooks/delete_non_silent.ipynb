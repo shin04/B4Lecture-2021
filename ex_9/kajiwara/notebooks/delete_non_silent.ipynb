{
 "cells": [
  {
   "cell_type": "code",
   "execution_count": 1,
   "id": "65360d95-c782-4bcf-bdb4-0aea15fd0477",
   "metadata": {},
   "outputs": [],
   "source": [
    "import librosa\n",
    "import librosa.display\n",
    "import pandas as pd\n",
    "import numpy as np\n",
    "import matplotlib.pyplot as plt\n",
    "import IPython.display as ipd\n",
    "from IPython.display import Audio\n",
    "\n",
    "from sklearn.model_selection import KFold, StratifiedKFold"
   ]
  },
  {
   "cell_type": "code",
   "execution_count": 2,
   "id": "a33f3dc3-371f-4907-b888-384322c750be",
   "metadata": {},
   "outputs": [],
   "source": [
    "meta = pd.read_csv('../../training.csv')\n",
    "test_meta = pd.read_csv('../../test.csv')"
   ]
  },
  {
   "cell_type": "code",
   "execution_count": 3,
   "id": "028f3ad5-590b-49ae-b330-5270b178e2fb",
   "metadata": {},
   "outputs": [],
   "source": [
    "start_idx = []\n",
    "end_idx = []\n",
    "for name in meta['path']:\n",
    "    y, sr = librosa.load('../../' + name)\n",
    "    start_idx.append(librosa.effects.split(y)[0][0])\n",
    "    end_idx.append(librosa.effects.split(y)[0][1])"
   ]
  },
  {
   "cell_type": "code",
   "execution_count": 4,
   "id": "39f613c2-f3eb-4992-a6ed-3cffdd0d5917",
   "metadata": {},
   "outputs": [
    {
     "data": {
      "text/html": [
       "<div>\n",
       "<style scoped>\n",
       "    .dataframe tbody tr th:only-of-type {\n",
       "        vertical-align: middle;\n",
       "    }\n",
       "\n",
       "    .dataframe tbody tr th {\n",
       "        vertical-align: top;\n",
       "    }\n",
       "\n",
       "    .dataframe thead th {\n",
       "        text-align: right;\n",
       "    }\n",
       "</style>\n",
       "<table border=\"1\" class=\"dataframe\">\n",
       "  <thead>\n",
       "    <tr style=\"text-align: right;\">\n",
       "      <th></th>\n",
       "      <th>path</th>\n",
       "      <th>label</th>\n",
       "      <th>start_idx</th>\n",
       "      <th>end_idx</th>\n",
       "    </tr>\n",
       "  </thead>\n",
       "  <tbody>\n",
       "    <tr>\n",
       "      <th>0</th>\n",
       "      <td>dataset/train/jackson_0.wav</td>\n",
       "      <td>4</td>\n",
       "      <td>0</td>\n",
       "      <td>11089</td>\n",
       "    </tr>\n",
       "    <tr>\n",
       "      <th>1</th>\n",
       "      <td>dataset/train/jackson_1.wav</td>\n",
       "      <td>4</td>\n",
       "      <td>0</td>\n",
       "      <td>9465</td>\n",
       "    </tr>\n",
       "    <tr>\n",
       "      <th>2</th>\n",
       "      <td>dataset/train/jackson_2.wav</td>\n",
       "      <td>4</td>\n",
       "      <td>0</td>\n",
       "      <td>10692</td>\n",
       "    </tr>\n",
       "    <tr>\n",
       "      <th>3</th>\n",
       "      <td>dataset/train/jackson_3.wav</td>\n",
       "      <td>4</td>\n",
       "      <td>0</td>\n",
       "      <td>9708</td>\n",
       "    </tr>\n",
       "    <tr>\n",
       "      <th>4</th>\n",
       "      <td>dataset/train/jackson_4.wav</td>\n",
       "      <td>4</td>\n",
       "      <td>0</td>\n",
       "      <td>10022</td>\n",
       "    </tr>\n",
       "  </tbody>\n",
       "</table>\n",
       "</div>"
      ],
      "text/plain": [
       "                          path  label  start_idx  end_idx\n",
       "0  dataset/train/jackson_0.wav      4          0    11089\n",
       "1  dataset/train/jackson_1.wav      4          0     9465\n",
       "2  dataset/train/jackson_2.wav      4          0    10692\n",
       "3  dataset/train/jackson_3.wav      4          0     9708\n",
       "4  dataset/train/jackson_4.wav      4          0    10022"
      ]
     },
     "execution_count": 4,
     "metadata": {},
     "output_type": "execute_result"
    }
   ],
   "source": [
    "meta['start_idx'] = start_idx\n",
    "meta['end_idx'] = end_idx\n",
    "meta.head()"
   ]
  },
  {
   "cell_type": "code",
   "execution_count": 5,
   "id": "443ec312-5548-467d-b166-5304dca072b4",
   "metadata": {},
   "outputs": [],
   "source": [
    "start_idx = []\n",
    "end_idx = []\n",
    "for name in test_meta['path']:\n",
    "    y, sr = librosa.load('../../' + name)\n",
    "    start_idx.append(librosa.effects.split(y)[0][0])\n",
    "    end_idx.append(librosa.effects.split(y)[0][1])"
   ]
  },
  {
   "cell_type": "code",
   "execution_count": 6,
   "id": "f050df96-a6bb-45cf-b19c-99f752a4b06c",
   "metadata": {},
   "outputs": [
    {
     "data": {
      "text/html": [
       "<div>\n",
       "<style scoped>\n",
       "    .dataframe tbody tr th:only-of-type {\n",
       "        vertical-align: middle;\n",
       "    }\n",
       "\n",
       "    .dataframe tbody tr th {\n",
       "        vertical-align: top;\n",
       "    }\n",
       "\n",
       "    .dataframe thead th {\n",
       "        text-align: right;\n",
       "    }\n",
       "</style>\n",
       "<table border=\"1\" class=\"dataframe\">\n",
       "  <thead>\n",
       "    <tr style=\"text-align: right;\">\n",
       "      <th></th>\n",
       "      <th>path</th>\n",
       "      <th>start_idx</th>\n",
       "      <th>end_idx</th>\n",
       "    </tr>\n",
       "  </thead>\n",
       "  <tbody>\n",
       "    <tr>\n",
       "      <th>0</th>\n",
       "      <td>dataset/test/jackson_0.wav</td>\n",
       "      <td>0</td>\n",
       "      <td>9115</td>\n",
       "    </tr>\n",
       "    <tr>\n",
       "      <th>1</th>\n",
       "      <td>dataset/test/jackson_1.wav</td>\n",
       "      <td>0</td>\n",
       "      <td>9532</td>\n",
       "    </tr>\n",
       "    <tr>\n",
       "      <th>2</th>\n",
       "      <td>dataset/test/jackson_2.wav</td>\n",
       "      <td>0</td>\n",
       "      <td>10460</td>\n",
       "    </tr>\n",
       "    <tr>\n",
       "      <th>3</th>\n",
       "      <td>dataset/test/jackson_3.wav</td>\n",
       "      <td>0</td>\n",
       "      <td>9556</td>\n",
       "    </tr>\n",
       "    <tr>\n",
       "      <th>4</th>\n",
       "      <td>dataset/test/jackson_4.wav</td>\n",
       "      <td>0</td>\n",
       "      <td>9253</td>\n",
       "    </tr>\n",
       "  </tbody>\n",
       "</table>\n",
       "</div>"
      ],
      "text/plain": [
       "                         path  start_idx  end_idx\n",
       "0  dataset/test/jackson_0.wav          0     9115\n",
       "1  dataset/test/jackson_1.wav          0     9532\n",
       "2  dataset/test/jackson_2.wav          0    10460\n",
       "3  dataset/test/jackson_3.wav          0     9556\n",
       "4  dataset/test/jackson_4.wav          0     9253"
      ]
     },
     "execution_count": 6,
     "metadata": {},
     "output_type": "execute_result"
    }
   ],
   "source": [
    "test_meta['start_idx'] = start_idx\n",
    "test_meta['end_idx'] = end_idx\n",
    "test_meta.head()"
   ]
  },
  {
   "cell_type": "code",
   "execution_count": 8,
   "id": "a0b9258e-7f14-490b-8792-ec07f3f2bb50",
   "metadata": {},
   "outputs": [],
   "source": [
    "meta.to_csv('../meta/training.csv', index=False)\n",
    "test_meta.to_csv('../meta/test.csv', index=False)"
   ]
  },
  {
   "cell_type": "code",
   "execution_count": null,
   "id": "d90bdabc-b935-4f4d-83fa-38caf2f131c0",
   "metadata": {},
   "outputs": [],
   "source": []
  }
 ],
 "metadata": {
  "kernelspec": {
   "display_name": "ex9_env",
   "language": "python",
   "name": "ex9_env"
  },
  "language_info": {
   "codemirror_mode": {
    "name": "ipython",
    "version": 3
   },
   "file_extension": ".py",
   "mimetype": "text/x-python",
   "name": "python",
   "nbconvert_exporter": "python",
   "pygments_lexer": "ipython3",
   "version": "3.8.8"
  }
 },
 "nbformat": 4,
 "nbformat_minor": 5
}
