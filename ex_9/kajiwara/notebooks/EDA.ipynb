{
 "cells": [
  {
   "cell_type": "code",
   "execution_count": 23,
   "id": "d9be1fac-0d4f-45cb-8c3e-74f4189a654f",
   "metadata": {},
   "outputs": [],
   "source": [
    "import librosa\n",
    "import pandas as pd\n",
    "import numpy as np\n",
    "import matplotlib.pyplot as plt\n",
    "\n",
    "from sklearn.model_selection import KFold"
   ]
  },
  {
   "cell_type": "code",
   "execution_count": 16,
   "id": "d5d04a2d-dd4c-4f79-bcda-05b6085892e6",
   "metadata": {},
   "outputs": [],
   "source": [
    "meta = pd.read_csv('../../training.csv')\n",
    "test_meta = pd.read_csv('../../test.csv')"
   ]
  },
  {
   "cell_type": "markdown",
   "id": "f7a2977b-0a78-442a-87c0-fe2355dbabdd",
   "metadata": {},
   "source": [
    "## time"
   ]
  },
  {
   "cell_type": "code",
   "execution_count": 3,
   "id": "6e87fb3e-c8d6-4382-872b-37f9dd7709f5",
   "metadata": {},
   "outputs": [
    {
     "data": {
      "text/plain": [
       "count    2700.000000\n",
       "mean        0.438810\n",
       "std         0.149941\n",
       "min         0.143537\n",
       "25%         0.342268\n",
       "50%         0.420590\n",
       "75%         0.512653\n",
       "max         2.282766\n",
       "dtype: float64"
      ]
     },
     "execution_count": 3,
     "metadata": {},
     "output_type": "execute_result"
    }
   ],
   "source": [
    "train_times = []\n",
    "for name in meta['path']:\n",
    "    y, sr = librosa.load('../../' + name)\n",
    "    train_times.append(len(y)/ sr)\n",
    "train_times = pd.Series(train_times)\n",
    "train_times.describe()"
   ]
  },
  {
   "cell_type": "code",
   "execution_count": 4,
   "id": "65446699-8204-493d-b073-83c689e8ae70",
   "metadata": {},
   "outputs": [
    {
     "data": {
      "text/plain": [
       "<AxesSubplot:>"
      ]
     },
     "execution_count": 4,
     "metadata": {},
     "output_type": "execute_result"
    },
    {
     "data": {
      "image/png": "[encoded data removed]",
      "text/plain": [
       "<Figure size 432x288 with 1 Axes>"
      ]
     },
     "metadata": {
      "needs_background": "light"
     },
     "output_type": "display_data"
    }
   ],
   "source": [
    "train_times.hist()"
   ]
  },
  {
   "cell_type": "code",
   "execution_count": 5,
   "id": "c2f1cb57-ee2e-4bcb-b936-a38f25f1103b",
   "metadata": {},
   "outputs": [
    {
     "data": {
      "text/plain": [
       "2682"
      ]
     },
     "execution_count": 5,
     "metadata": {},
     "output_type": "execute_result"
    }
   ],
   "source": [
    "t = [item for item in train_times if item <= 1.0]\n",
    "len(t)"
   ]
  },
  {
   "cell_type": "code",
   "execution_count": 6,
   "id": "4eadf83c-d1c2-4676-9177-b1b86f2d61da",
   "metadata": {},
   "outputs": [
    {
     "data": {
      "text/plain": [
       "count    300.000000\n",
       "mean       0.425273\n",
       "std        0.124639\n",
       "min        0.195011\n",
       "25%        0.342914\n",
       "50%        0.410590\n",
       "75%        0.493934\n",
       "max        1.038639\n",
       "dtype: float64"
      ]
     },
     "execution_count": 6,
     "metadata": {},
     "output_type": "execute_result"
    }
   ],
   "source": [
    "test_times = []\n",
    "for name in test_meta['path']:\n",
    "    y, sr = librosa.load('../../' + name)\n",
    "    test_times.append(len(y)/ sr)\n",
    "test_times = pd.Series(test_times)\n",
    "test_times.describe()"
   ]
  },
  {
   "cell_type": "code",
   "execution_count": 7,
   "id": "79cdddce-2350-4a25-8259-e7c91430f9a3",
   "metadata": {},
   "outputs": [
    {
     "data": {
      "text/plain": [
       "<AxesSubplot:>"
      ]
     },
     "execution_count": 7,
     "metadata": {},
     "output_type": "execute_result"
    },
    {
     "data": {
      "image/png": "[encoded data removed]",
      "text/plain": [
       "<Figure size 432x288 with 1 Axes>"
      ]
     },
     "metadata": {
      "needs_background": "light"
     },
     "output_type": "display_data"
    }
   ],
   "source": [
    "test_times.hist()"
   ]
  },
  {
   "cell_type": "code",
   "execution_count": 8,
   "id": "e2218398-b125-4247-afff-7d9c2ed234b7",
   "metadata": {},
   "outputs": [
    {
     "data": {
      "text/plain": [
       "298"
      ]
     },
     "execution_count": 8,
     "metadata": {},
     "output_type": "execute_result"
    }
   ],
   "source": [
    "t = [item for item in test_times if item <= 1.0]\n",
    "len(t)"
   ]
  },
  {
   "cell_type": "code",
   "execution_count": 9,
   "id": "d11bdcb3-0be6-48c6-b763-f372aa5638ed",
   "metadata": {},
   "outputs": [],
   "source": [
    "# make new meta\n",
    "# meta = pd.read_csv('../training.csv')\n",
    "name_list = []\n",
    "label_list = []\n",
    "for i in range(len(meta)):\n",
    "    if train_times[i] <= 1.0:\n",
    "        name_list.append(meta['path'][i])\n",
    "        label_list.append(meta['label'][i])\n",
    "new_meta = pd.DataFrame(list(zip(name_list, label_list)), columns=['path', 'label'])\n",
    "# new_meta.to_csv('../new_training.csv', index=False)"
   ]
  },
  {
   "cell_type": "code",
   "execution_count": 10,
   "id": "a99c3650-98c8-456c-b287-ee5c946d9ba3",
   "metadata": {},
   "outputs": [],
   "source": [
    "# # make new meta\n",
    "# meta = pd.read_csv('../test.csv')\n",
    "# name_list = []\n",
    "# for i in range(len(meta)):\n",
    "#     if train_times[i] <= 1.0:\n",
    "#         name_list.append(meta['path'][i])\n",
    "# df = pd.DataFrame(name_list, columns=['path'])\n",
    "# df.to_csv('../new_test.csv', index=False)"
   ]
  },
  {
   "cell_type": "markdown",
   "id": "44d27b4a-1e97-4a12-8040-92ab65c8c701",
   "metadata": {},
   "source": [
    "### relation of number and audio time"
   ]
  },
  {
   "cell_type": "code",
   "execution_count": 19,
   "id": "bd3a81d3-86e3-4c52-ad0b-3619f5aea1a4",
   "metadata": {},
   "outputs": [
    {
     "data": {
      "text/html": [
       "<div>\n",
       "<style scoped>\n",
       "    .dataframe tbody tr th:only-of-type {\n",
       "        vertical-align: middle;\n",
       "    }\n",
       "\n",
       "    .dataframe tbody tr th {\n",
       "        vertical-align: top;\n",
       "    }\n",
       "\n",
       "    .dataframe thead th {\n",
       "        text-align: right;\n",
       "    }\n",
       "</style>\n",
       "<table border=\"1\" class=\"dataframe\">\n",
       "  <thead>\n",
       "    <tr style=\"text-align: right;\">\n",
       "      <th></th>\n",
       "      <th>path</th>\n",
       "      <th>label</th>\n",
       "      <th>times</th>\n",
       "    </tr>\n",
       "  </thead>\n",
       "  <tbody>\n",
       "    <tr>\n",
       "      <th>0</th>\n",
       "      <td>dataset/train/jackson_0.wav</td>\n",
       "      <td>4</td>\n",
       "      <td>0.502902</td>\n",
       "    </tr>\n",
       "    <tr>\n",
       "      <th>1</th>\n",
       "      <td>dataset/train/jackson_1.wav</td>\n",
       "      <td>4</td>\n",
       "      <td>0.429252</td>\n",
       "    </tr>\n",
       "    <tr>\n",
       "      <th>2</th>\n",
       "      <td>dataset/train/jackson_2.wav</td>\n",
       "      <td>4</td>\n",
       "      <td>0.484898</td>\n",
       "    </tr>\n",
       "    <tr>\n",
       "      <th>3</th>\n",
       "      <td>dataset/train/jackson_3.wav</td>\n",
       "      <td>4</td>\n",
       "      <td>0.440272</td>\n",
       "    </tr>\n",
       "    <tr>\n",
       "      <th>4</th>\n",
       "      <td>dataset/train/jackson_4.wav</td>\n",
       "      <td>4</td>\n",
       "      <td>0.454512</td>\n",
       "    </tr>\n",
       "  </tbody>\n",
       "</table>\n",
       "</div>"
      ],
      "text/plain": [
       "                          path  label     times\n",
       "0  dataset/train/jackson_0.wav      4  0.502902\n",
       "1  dataset/train/jackson_1.wav      4  0.429252\n",
       "2  dataset/train/jackson_2.wav      4  0.484898\n",
       "3  dataset/train/jackson_3.wav      4  0.440272\n",
       "4  dataset/train/jackson_4.wav      4  0.454512"
      ]
     },
     "execution_count": 19,
     "metadata": {},
     "output_type": "execute_result"
    }
   ],
   "source": [
    "meta['times'] = train_times\n",
    "meta.head()"
   ]
  },
  {
   "cell_type": "code",
   "execution_count": 20,
   "id": "8d5dd7a5-d27f-4582-9b3b-2f5263ee4626",
   "metadata": {},
   "outputs": [
    {
     "data": {
      "text/html": [
       "<div>\n",
       "<style scoped>\n",
       "    .dataframe tbody tr th:only-of-type {\n",
       "        vertical-align: middle;\n",
       "    }\n",
       "\n",
       "    .dataframe tbody tr th {\n",
       "        vertical-align: top;\n",
       "    }\n",
       "\n",
       "    .dataframe thead th {\n",
       "        text-align: right;\n",
       "    }\n",
       "</style>\n",
       "<table border=\"1\" class=\"dataframe\">\n",
       "  <thead>\n",
       "    <tr style=\"text-align: right;\">\n",
       "      <th></th>\n",
       "      <th>times</th>\n",
       "    </tr>\n",
       "    <tr>\n",
       "      <th>label</th>\n",
       "      <th></th>\n",
       "    </tr>\n",
       "  </thead>\n",
       "  <tbody>\n",
       "    <tr>\n",
       "      <th>0</th>\n",
       "      <td>0.503607</td>\n",
       "    </tr>\n",
       "    <tr>\n",
       "      <th>1</th>\n",
       "      <td>0.403095</td>\n",
       "    </tr>\n",
       "    <tr>\n",
       "      <th>2</th>\n",
       "      <td>0.385760</td>\n",
       "    </tr>\n",
       "    <tr>\n",
       "      <th>3</th>\n",
       "      <td>0.402025</td>\n",
       "    </tr>\n",
       "    <tr>\n",
       "      <th>4</th>\n",
       "      <td>0.409257</td>\n",
       "    </tr>\n",
       "    <tr>\n",
       "      <th>5</th>\n",
       "      <td>0.453843</td>\n",
       "    </tr>\n",
       "    <tr>\n",
       "      <th>6</th>\n",
       "      <td>0.453374</td>\n",
       "    </tr>\n",
       "    <tr>\n",
       "      <th>7</th>\n",
       "      <td>0.461145</td>\n",
       "    </tr>\n",
       "    <tr>\n",
       "      <th>8</th>\n",
       "      <td>0.415019</td>\n",
       "    </tr>\n",
       "    <tr>\n",
       "      <th>9</th>\n",
       "      <td>0.500978</td>\n",
       "    </tr>\n",
       "  </tbody>\n",
       "</table>\n",
       "</div>"
      ],
      "text/plain": [
       "          times\n",
       "label          \n",
       "0      0.503607\n",
       "1      0.403095\n",
       "2      0.385760\n",
       "3      0.402025\n",
       "4      0.409257\n",
       "5      0.453843\n",
       "6      0.453374\n",
       "7      0.461145\n",
       "8      0.415019\n",
       "9      0.500978"
      ]
     },
     "execution_count": 20,
     "metadata": {},
     "output_type": "execute_result"
    }
   ],
   "source": [
    "meta.groupby('label').mean()"
   ]
  },
  {
   "cell_type": "markdown",
   "id": "ff7fbdbc-1f5d-4feb-9db2-59c7551a22b6",
   "metadata": {},
   "source": [
    "## meta"
   ]
  },
  {
   "cell_type": "code",
   "execution_count": 22,
   "id": "55c0a2e2-01fd-4fe2-813e-5b7f9d35547e",
   "metadata": {},
   "outputs": [
    {
     "data": {
      "text/plain": [
       "<AxesSubplot:>"
      ]
     },
     "execution_count": 22,
     "metadata": {},
     "output_type": "execute_result"
    },
    {
     "data": {
      "image/png": "[encoded data removed]",
      "text/plain": [
       "<Figure size 432x288 with 1 Axes>"
      ]
     },
     "metadata": {
      "needs_background": "light"
     },
     "output_type": "display_data"
    }
   ],
   "source": [
    "new_meta['label'].hist()"
   ]
  },
  {
   "cell_type": "code",
   "execution_count": 29,
   "id": "090a6f57-682e-4504-805f-561948fbe6d6",
   "metadata": {},
   "outputs": [],
   "source": [
    "def plot_cv_indices(cv, X, y, group, ax, n_splits, lw=10):\n",
    "    \"\"\"Create a sample plot for indices of a cross-validation object.\"\"\"\n",
    "\n",
    "    # Generate the training/testing visualizations for each CV split\n",
    "    for ii, (tr, tt) in enumerate(cv.split(X=X, y=y, groups=group)):\n",
    "        # Fill in indices with the training/test groups\n",
    "        indices = np.array([np.nan] * len(X))\n",
    "        indices[tt] = 1\n",
    "        indices[tr] = 0\n",
    "\n",
    "        # Visualize the results\n",
    "        ax.scatter(range(len(indices)), [ii + .5] * len(indices),\n",
    "                   c=indices, marker='_', lw=lw, cmap=cmap_cv,\n",
    "                   vmin=-.2, vmax=1.2)\n",
    "\n",
    "    # Plot the data classes and groups at the end\n",
    "    ax.scatter(range(len(X)), [ii + 1.5] * len(X),\n",
    "               c=y, marker='_', lw=lw, cmap=cmap_data)\n",
    "\n",
    "    ax.scatter(range(len(X)), [ii + 2.5] * len(X),\n",
    "               c=group, marker='_', lw=lw, cmap=cmap_data)\n",
    "\n",
    "    # Formatting\n",
    "    yticklabels = list(range(n_splits)) + ['class', 'group']\n",
    "    ax.set(yticks=np.arange(n_splits+2) + .5, yticklabels=yticklabels,\n",
    "           xlabel='Sample index', ylabel=\"CV iteration\",\n",
    "           ylim=[n_splits+2.2, -.2], xlim=[0, 100])\n",
    "    ax.set_title('{}'.format(type(cv).__name__), fontsize=15)\n",
    "    return ax"
   ]
  },
  {
   "cell_type": "code",
   "execution_count": 33,
   "id": "3ad8918e-bffe-444a-83ac-0ccc75c21c14",
   "metadata": {},
   "outputs": [
    {
     "data": {
      "text/plain": [
       "<AxesSubplot:title={'center':'KFold'}, xlabel='Sample index', ylabel='CV iteration'>"
      ]
     },
     "execution_count": 33,
     "metadata": {},
     "output_type": "execute_result"
    },
    {
     "data": {
      "image/png": "[encoded data removed]",
      "text/plain": [
       "<Figure size 432x288 with 1 Axes>"
      ]
     },
     "metadata": {
      "needs_background": "light"
     },
     "output_type": "display_data"
    }
   ],
   "source": [
    "fig, ax = plt.subplots()\n",
    "n_splits = 3\n",
    "cmap_data = plt.cm.Paired\n",
    "cmap_cv = plt.cm.coolwarm\n",
    "cv = KFold(n_splits)\n",
    "idxes = [i for i in range(len(new_meta))]\n",
    "X = idxes\n",
    "y = new_meta['label'].values\n",
    "groups = new_meta['label'].values\n",
    "plot_cv_indices(cv, X, y, groups, ax, n_splits)"
   ]
  },
  {
   "cell_type": "code",
   "execution_count": null,
   "id": "d00576df-1f23-4de1-ac53-968a88293fe4",
   "metadata": {},
   "outputs": [],
   "source": []
  }
 ],
 "metadata": {
  "kernelspec": {
   "display_name": "ex9_env",
   "language": "python",
   "name": "ex9_env"
  },
  "language_info": {
   "codemirror_mode": {
    "name": "ipython",
    "version": 3
   },
   "file_extension": ".py",
   "mimetype": "text/x-python",
   "name": "python",
   "nbconvert_exporter": "python",
   "pygments_lexer": "ipython3",
   "version": "3.8.8"
  }
 },
 "nbformat": 4,
 "nbformat_minor": 5
}
